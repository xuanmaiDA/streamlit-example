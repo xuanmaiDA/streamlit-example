{
  "cells": [
    {
      "cell_type": "markdown",
      "metadata": {
        "id": "view-in-github",
        "colab_type": "text"
      },
      "source": [
        "<a href=\"https://colab.research.google.com/github/xuanmaiDA/streamlit-example/blob/master/B%E1%BA%A3n_sao_c%E1%BB%A7a_PPNCLN_Stock_Prediction.ipynb\" target=\"_parent\"><img src=\"https://colab.research.google.com/assets/colab-badge.svg\" alt=\"Open In Colab\"/></a>"
      ]
    },
    {
      "cell_type": "code",
      "execution_count": null,
      "metadata": {
        "id": "JbZYxyEbgW29",
        "colab": {
          "base_uri": "https://localhost:8080/"
        },
        "outputId": "059feb66-20a6-4b60-d0a6-9d056755ea03"
      },
      "outputs": [
        {
          "output_type": "stream",
          "name": "stdout",
          "text": [
            "\u001b[2K     \u001b[90m━━━━━━━━━━━━━━━━━━━━━━━━━━━━━━━━━━━━━━━━\u001b[0m \u001b[32m8.4/8.4 MB\u001b[0m \u001b[31m47.6 MB/s\u001b[0m eta \u001b[36m0:00:00\u001b[0m\n",
            "\u001b[2K     \u001b[90m━━━━━━━━━━━━━━━━━━━━━━━━━━━━━━━━━━━━━━━━\u001b[0m \u001b[32m190.6/190.6 kB\u001b[0m \u001b[31m18.0 MB/s\u001b[0m eta \u001b[36m0:00:00\u001b[0m\n",
            "\u001b[2K     \u001b[90m━━━━━━━━━━━━━━━━━━━━━━━━━━━━━━━━━━━━━━━━\u001b[0m \u001b[32m4.8/4.8 MB\u001b[0m \u001b[31m78.8 MB/s\u001b[0m eta \u001b[36m0:00:00\u001b[0m\n",
            "\u001b[2K     \u001b[90m━━━━━━━━━━━━━━━━━━━━━━━━━━━━━━━━━━━━━━━━\u001b[0m \u001b[32m82.1/82.1 kB\u001b[0m \u001b[31m8.1 MB/s\u001b[0m eta \u001b[36m0:00:00\u001b[0m\n",
            "\u001b[2K     \u001b[90m━━━━━━━━━━━━━━━━━━━━━━━━━━━━━━━━━━━━━━━━\u001b[0m \u001b[32m62.7/62.7 kB\u001b[0m \u001b[31m5.7 MB/s\u001b[0m eta \u001b[36m0:00:00\u001b[0m\n",
            "\u001b[K\u001b[?25h\u001b[37;40mnpm\u001b[0m \u001b[0m\u001b[30;43mWARN\u001b[0m \u001b[0m\u001b[35msaveError\u001b[0m ENOENT: no such file or directory, open '/content/package.json'\n",
            "\u001b[K\u001b[?25h\u001b[37;40mnpm\u001b[0m \u001b[0m\u001b[34;40mnotice\u001b[0m\u001b[35m\u001b[0m created a lockfile as package-lock.json. You should commit this file.\n",
            "\u001b[0m\u001b[37;40mnpm\u001b[0m \u001b[0m\u001b[30;43mWARN\u001b[0m \u001b[0m\u001b[35menoent\u001b[0m ENOENT: no such file or directory, open '/content/package.json'\n",
            "\u001b[0m\u001b[37;40mnpm\u001b[0m \u001b[0m\u001b[30;43mWARN\u001b[0m\u001b[35m\u001b[0m content No description\n",
            "\u001b[0m\u001b[37;40mnpm\u001b[0m \u001b[0m\u001b[30;43mWARN\u001b[0m\u001b[35m\u001b[0m content No repository field.\n",
            "\u001b[0m\u001b[37;40mnpm\u001b[0m \u001b[0m\u001b[30;43mWARN\u001b[0m\u001b[35m\u001b[0m content No README data\n",
            "\u001b[0m\u001b[37;40mnpm\u001b[0m \u001b[0m\u001b[30;43mWARN\u001b[0m\u001b[35m\u001b[0m content No license field.\n",
            "\u001b[0m\n",
            "+ localtunnel@2.0.2\n",
            "added 22 packages from 22 contributors and audited 22 packages in 4.576s\n",
            "\n",
            "3 packages are looking for funding\n",
            "  run `npm fund` for details\n",
            "\n",
            "found 1 \u001b[93mmoderate\u001b[0m severity vulnerability\n",
            "  run `npm audit fix` to fix them, or `npm audit` for details\n",
            "\u001b[K\u001b[?25h"
          ]
        }
      ],
      "source": [
        "!pip install -q streamlit\n",
        "!npm install localtunnel"
      ]
    },
    {
      "cell_type": "code",
      "execution_count": null,
      "metadata": {
        "colab": {
          "base_uri": "https://localhost:8080/"
        },
        "id": "XbeTfBDhg7No",
        "outputId": "89f05ea2-5370-48a7-c5a9-e248937de23c"
      },
      "outputs": [
        {
          "metadata": {
            "tags": null
          },
          "name": "stdout",
          "output_type": "stream",
          "text": [
            "34.139.46.56\n",
            "\u001b[K\u001b[?25hnpx: installed 22 in 5.145s\n",
            "your url is: https://fancy-impalas-do.loca.lt\n"
          ]
        }
      ],
      "source": [
        "# Chạy app streamlit\n",
        "!streamlit run app.py &>/content/logs.txt & npx localtunnel --port 8501 & curl ipv4.icanhazip.com"
      ]
    },
    {
      "cell_type": "code",
      "execution_count": null,
      "metadata": {
        "id": "A0f_yT2bgc5o"
      },
      "outputs": [],
      "source": [
        "%%writefile app.py\n",
        "# Cài đặt thư viện\n",
        "import streamlit as st\n",
        "import vnstock\n",
        "import plotly.graph_objects as go\n",
        "import matplotlib.pyplot as plt\n",
        "\n",
        "# Title\n",
        "st.title(\"Prediction Stock VietNam\")\n",
        "\n",
        "# Hiển thị dữ liệu lấy về\n",
        "# Ví dụ lấy giá Vinhome từ ngày 06/11/2022 - 06/11/2023\n",
        "data_stock = vnstock.stock_historical_data('VHM','2022-11-06','2023-11-06','1D')\n",
        "data_stock = data_stock.set_index('time')\n",
        "data_stock.drop('ticker', axis=1, inplace=True)\n",
        "# Gồm có giá mở cửa, đóng cửa, thấp nhất, cao nhất, khối lượng giao dịch\n",
        "data_stock.head(5)\n",
        "#-------- Hiển thị\n",
        "st.write(\"Dữ liệu chứng khoán Vinhome\")\n",
        "st.dataframe(data_stock.head(5))\n",
        "\n",
        "# Vẽ biểu đồ thể hiện sự tăng giảm của cổ phiếu\n",
        "bieu_do = go.Figure(data=go.Ohlc(x=data_stock.index, open=data_stock['open'],\n",
        "                              high=data_stock['high'], low = data_stock['low'],\n",
        "                              close = data_stock['close']))\n",
        "#--------- Hiển thị\n",
        "st.write(\"Biểu đồ thể hiện sự tăng giảm của cổ phiếu\")\n",
        "st.plotly_chart(bieu_do, use_container_width=True)\n",
        "\n",
        "# Vẽ biểu đồ theo giá đóng cửa, mở cửa\n",
        "plt.style.use('fivethirtyeight')\n",
        "plt.figure(figsize=(16,4))\n",
        "plt.title(\"Giá cổ phiếu của Cty có mã giao dịch là \"+ \"VNM\")\n",
        "plt.plot(data_stock[\"close\"],linewidth = 2)\n",
        "plt.plot(data_stock[\"open\"],linewidth = 2)\n",
        "plt.xlabel(\"Ngày\",fontsize=18)\n",
        "plt.ylabel(\"Giá cố phiếu ($) \",fontsize=18)\n",
        "plt.legend(['Giá đóng cửa', 'Giá mở cửa'])\n",
        "\n",
        "#--------- Hiển thị\n",
        "st.write(\"Biểu đồ theo giá đóng cửa, mở \")\n",
        "st.pyplot(plt)\n",
        "\n",
        "\n",
        "#Biểu đồ cột\n",
        "plt.figure(figsize=(16,6))\n",
        "plt.bar(data_stock.index, data_stock['high'], color = 'red')\n",
        "plt.title('Biểu đồ giá đóng cửa')\n",
        "plt.xlabel('Ngày')\n",
        "plt.ylabel('Giá cao nhất')\n",
        "plt.xticks(rotation=50)\n",
        "plt.yticks(rotation=100)\n",
        "#--------- Hiển thị\n",
        "st.write(\"Biểu đồ cột\")\n",
        "st.pyplot(plt)"
      ]
    },
    {
      "cell_type": "code",
      "execution_count": null,
      "metadata": {
        "id": "sE-Uf1lPKnMZ"
      },
      "outputs": [],
      "source": [
        "# Cài thư viện vnstock\n",
        "!pip install vnstock\n",
        "import vnstock"
      ]
    },
    {
      "cell_type": "code",
      "execution_count": null,
      "metadata": {
        "id": "qq9NL84nK2s2"
      },
      "outputs": [],
      "source": [
        "\n",
        "# Lấy giá chứng khoán\n",
        "# Ví dụ lấy giá Vinhome từ ngày 06/11/2022 - 06/11/2023\n",
        "data_stock = vnstock.stock_historical_data('VHM','2022-11-06','2023-11-06','1D')\n",
        "data_stock = data_stock.set_index('time')\n",
        "data_stock.drop('ticker', axis=1, inplace=True)\n",
        "# Gồm có giá mở cửa, đóng cửa, thấp nhất, cao nhất, khối lượng giao dịch\n",
        "data_stock.head(3)"
      ]
    },
    {
      "cell_type": "code",
      "execution_count": null,
      "metadata": {
        "id": "CgLmFfBgHzGW"
      },
      "outputs": [],
      "source": [
        "# Cài đặt thư viện plotly\n",
        "import plotly.graph_objects as go\n",
        "# Vẽ biểu đồ thể hiện sự tăng giảm của cổ phiếu\n",
        "bieu_do = go.Figure(data=go.Ohlc(x=data_stock.index, open=data_stock['open'],\n",
        "                              high=data_stock['high'], low = data_stock['low'],\n",
        "                              close = data_stock['close']))\n",
        "bieu_do.show()"
      ]
    },
    {
      "cell_type": "code",
      "execution_count": null,
      "metadata": {
        "id": "-lUravstINc9"
      },
      "outputs": [],
      "source": [
        "# Cài đặt thư viện\n",
        "import matplotlib.pyplot as plt\n",
        "# Vẽ biểu đồ theo giá đóng cửa, mở cửa - chênh lệch giữa giá mở cửa và giá đóng cửa\n",
        "plt.style.use('fivethirtyeight')\n",
        "plt.figure(figsize=(16,4))\n",
        "plt.title(\"Giá cổ phiếu của Cty có mã giao dịch là \"+ \"VNM\")\n",
        "plt.plot(data_stock[\"close\"],linewidth = 2)\n",
        "plt.plot(data_stock[\"open\"],linewidth = 2)\n",
        "plt.xlabel(\"Ngày\",fontsize=18)\n",
        "plt.ylabel(\"Giá cố phiếu ($) \",fontsize=18)\n",
        "plt.legend(['Giá đóng cửa', 'Giá mở cửa'])\n",
        "plt.show()"
      ]
    },
    {
      "cell_type": "code",
      "execution_count": null,
      "metadata": {
        "id": "GSVVQ8pwJV3p"
      },
      "outputs": [],
      "source": [
        "#Biểu đồ cột\n",
        "plt.figure(figsize=(16,6))\n",
        "plt.bar(data_stock.index, data_stock['high'], color = 'red')\n",
        "plt.title('Biểu đồ giá đóng cửa')\n",
        "plt.xlabel('Ngày')\n",
        "plt.ylabel('Giá cao nhất')\n",
        "plt.xticks(rotation=50)\n",
        "plt.yticks(rotation=100)\n",
        "plt.show()"
      ]
    },
    {
      "cell_type": "code",
      "execution_count": null,
      "metadata": {
        "id": "7xoT88bsJkjZ"
      },
      "outputs": [],
      "source": [
        "# Xử lý dữ liệu trước khi train model\n",
        "import math\n",
        "from  sklearn.preprocessing import MinMaxScaler\n",
        "import numpy as np\n",
        "#Xử lý dữ liệu trước khi train\n",
        "#Tạo bảng dữ liệu chỉ lấy cột giá chốt giao dịch ở cuối ngày\n",
        "data = data_stock.filter(['close'])\n",
        "#Tạo chuỗi chỉ chứa giá trị cổ phiếu\n",
        "dataset = data.values\n",
        "#Tính số hàng để huấn luyện mô hình\n",
        "# 80% Train 20% Test\n",
        "training_data_len = math.ceil( len(dataset) *.8)\n",
        "#Chuyển toàn bộ dữ liệu về khoản [0,1]\n",
        "scaler = MinMaxScaler(feature_range=(0, 1))\n",
        "scaled_data = scaler.fit_transform(dataset)\n",
        "#Create the scaled training data set\n",
        "train_data = scaled_data[0:training_data_len  , : ]\n",
        "#Split the data into x_train and y_train data sets\n",
        "x_train = []\n",
        "y_train = []\n",
        "for i in range(60,len(train_data)):\n",
        "    x_train.append(train_data[i-60:i,0]) # 60 ngày để tạo ra 1 input\n",
        "    y_train.append(train_data[i,0]) # lấy ngày tiếp theo để tạo ra output\n",
        "#Chuyển dữ liệu train và dữ liệu test về dạng numpy để có thể làm việc với mô hình LSTM\n",
        "x_train, y_train = np.array(x_train), np.array(y_train)\n",
        "\n",
        "#Dữ liệu dùng để kiếm tra kết quả của mô hình\n",
        "test_data = scaled_data[training_data_len - 60: , : ]\n",
        "#Tạo dữ liệu dùng để test mô hình\n",
        "x_test = []\n",
        "y_test =  dataset[training_data_len : , : ]\n",
        "for i in range(60,len(test_data)):\n",
        "    x_test.append(test_data[i-60:i,0])"
      ]
    },
    {
      "cell_type": "code",
      "execution_count": null,
      "metadata": {
        "id": "UzW1J4goLCb_"
      },
      "outputs": [],
      "source": [
        "# Model Linear Regressive\n",
        "from sklearn.linear_model import LinearRegression\n",
        "model_linear = LinearRegression(fit_intercept=True)\n",
        "model_linear.fit(x_train, y_train)\n",
        "yfit=model_linear.predict(x_test)\n",
        "predictions1 = scaler.inverse_transform([yfit])"
      ]
    },
    {
      "cell_type": "code",
      "execution_count": null,
      "metadata": {
        "id": "TZxJ9AifLHsv"
      },
      "outputs": [],
      "source": [
        "# Model Linear Regressive\n",
        "# Dự đoán bằng model\n",
        "print('Giá trị dự đoán: ',predictions1[0][5],'\\nGiá trị thực tế: ',y_test[5])\n",
        "print('Độ chênh lệch: ', abs(predictions1[0][5] - y_test[5]))"
      ]
    },
    {
      "cell_type": "code",
      "execution_count": null,
      "metadata": {
        "id": "5c8oWd9uLP04"
      },
      "outputs": [],
      "source": [
        "# Model KNN\n",
        "from sklearn.neighbors import KNeighborsRegressor\n",
        "knn_regressor=KNeighborsRegressor(n_neighbors = 5)\n",
        "knn_model=knn_regressor.fit(x_train,y_train)\n",
        "y_knn_pred=knn_model.predict(x_test)\n",
        "predictions2 = scaler.inverse_transform([y_knn_pred])"
      ]
    },
    {
      "cell_type": "code",
      "execution_count": null,
      "metadata": {
        "id": "8SGcdKI3LqIC"
      },
      "outputs": [],
      "source": [
        "# Model KNN\n",
        "# Dự đoán bằng model\n",
        "print('Giá trị dự đoán: ',predictions2[0][5],'\\nGiá trị thực tế: ',y_test[5])\n",
        "print('Độ chênh lệch: ', abs(predictions2[0][5] - y_test[5]))"
      ]
    },
    {
      "cell_type": "code",
      "execution_count": null,
      "metadata": {
        "id": "u44T4NNpLwDk"
      },
      "outputs": [],
      "source": [
        "# Model Suport Vector Machine (SVM)\n",
        "from sklearn.svm import SVR\n",
        "svm_regressor = SVR(kernel='linear')\n",
        "svm_model=svm_regressor.fit(x_train,y_train)\n",
        "y_svm_pred=svm_model.predict(x_test)\n",
        "predictions3 = scaler.inverse_transform([y_svm_pred])"
      ]
    },
    {
      "cell_type": "code",
      "execution_count": null,
      "metadata": {
        "id": "6Tk12357MFU5"
      },
      "outputs": [],
      "source": [
        "# Model Suport Vector Machine (SVM)\n",
        "# Dự đoán bằng model\n",
        "print('Giá trị dự đoán: ',predictions3[0][5],'\\nGiá trị thực tế: ',y_test[5])\n",
        "print('Độ chênh lệch: ', abs(predictions3[0][5] - y_test[5]))"
      ]
    },
    {
      "cell_type": "code",
      "execution_count": null,
      "metadata": {
        "id": "bWZie19DMMZT"
      },
      "outputs": [],
      "source": [
        "#Model Long Short Term Memmory\n",
        "from keras.models import Sequential\n",
        "from keras.layers import Dense, LSTM\n",
        "\n",
        "#Tạo bảng dữ liệu chỉ lấy cột giá chốt giao dịch ở cuối ngày\n",
        "data = data_stock.filter(['close'])\n",
        "#Tạo chuỗi chỉ chứa giá trị cổ phiếu\n",
        "dataset = data.values\n",
        "#Tính số hàng để huấn luyện mô hình\n",
        "training_data_len = math.ceil( len(dataset) *.8)\n",
        "#Chuyển toàn bộ dữ liệu về khoản [0,1]\n",
        "scaler = MinMaxScaler(feature_range=(0, 1))\n",
        "scaled_data = scaler.fit_transform(dataset)\n",
        "#Create the scaled training data set\n",
        "train_data = scaled_data[0:training_data_len  , : ]\n",
        "#Split the data into x_train and y_train data sets\n",
        "x_train=[]\n",
        "y_train = []\n",
        "for i in range(60,len(train_data)):\n",
        "    x_train.append(train_data[i-60:i,0])\n",
        "    y_train.append(train_data[i,0])\n",
        "#Chuyển dữ liệu train và dữ liệu test về dạng numpy để có thể làm việc với mô hình LSTM\n",
        "x_train, y_train = np.array(x_train), np.array(y_train)\n",
        "#Định dạng lại giá trị đầu vào cho mô hình LSTM (Ma trận 3 chiều)\n",
        "x_train_lstm = np.reshape(x_train, (x_train.shape[0],x_train.shape[1],1))\n",
        "#Cấu hình Mô hình LSTM (2 tầng LSTM)\n",
        "model = Sequential()\n",
        "model.add(LSTM(units=50, return_sequences=True,input_shape=(x_train.shape[1],1)))\n",
        "model.add(LSTM(units=50, return_sequences=False))\n",
        "model.add(Dense(units=25))\n",
        "model.add(Dense(units=1))\n",
        "#Biên dịch mô hình\n",
        "model.compile(optimizer='adam', loss='mean_squared_error')\n",
        "#Tiến hành training dữ liệu (Số epochs là số lần training dữ liệu)\n",
        "model.fit(x_train_lstm, y_train, batch_size=1, epochs=3)\n",
        "#Dữ liệu dùng để kiếm tra kết quả của mô hình\n",
        "test_data = scaled_data[training_data_len - 60: , : ]\n",
        "  #Tạo dữ liệu dùng để test mô hình\n",
        "x_test = []\n",
        "y_test =  dataset[training_data_len : , : ] #Get all of the rows from index 1603 to the rest and all of the columns (in this case it's only column 'Close'), so 2003 - 1603 = 400 rows of data\n",
        "for i in range(60,len(test_data)):\n",
        "  x_test.append(test_data[i-60:i,0])\n",
        "#Chuyển đổi dữ liệu test về kiểu numpy để tiến hành test với mô hình LSTM\n",
        "x_test = np.array(x_test)\n",
        "#Định dạng lại giá trị đầu vào cho mô hình LSTM (Ma trận 3 chiều)\n",
        "x_test_lstm = np.reshape(x_test, (x_test.shape[0],x_test.shape[1],1))\n",
        "#Lấy ra giá chứng khoán sau khi đã dự đoán\n",
        "predictions = model.predict(x_test_lstm)\n",
        "#Chuyễn lại giá chứng khoán về dạng số thập phân\n",
        "predictions = scaler.inverse_transform(predictions)\n",
        "predictions4 = []\n",
        "for i in predictions:\n",
        "  predictions4.append(i[0])\n"
      ]
    },
    {
      "cell_type": "code",
      "execution_count": null,
      "metadata": {
        "id": "-LSa3FmaMaDJ"
      },
      "outputs": [],
      "source": [
        "# Model Suport Vector Machine (SVM)\n",
        "# Dự đoán bằng model\n",
        "print('Giá trị dự đoán: ',predictions4[5],'\\nGiá trị thực tế: ',y_test[5])\n",
        "print('Độ chênh lệch: ', abs(predictions4[5] - y_test[5]))"
      ]
    },
    {
      "cell_type": "code",
      "execution_count": null,
      "metadata": {
        "id": "L05nV1UvNGQ0"
      },
      "outputs": [],
      "source": [
        "# Cập nhật kết quả để vẽ biểu đồ\n",
        "kq = data_stock.tail(50)\n",
        "kq['Lstm'] = predictions4\n",
        "kq['Linear Regresstive'] = predictions1[0]\n",
        "kq['KNN'] = predictions2[0]\n",
        "kq['SVM'] = predictions3[0]"
      ]
    },
    {
      "cell_type": "code",
      "execution_count": null,
      "metadata": {
        "id": "x9pRHJRkQyLh"
      },
      "outputs": [],
      "source": [
        "#Biểu đồ so sánh dự đoán của các mô hình với giá thực tế\n",
        "plt.figure(figsize=(16,8))\n",
        "plt.title(\"Biểu đồ so sánh dự đoán của các mô hình với giá thực tế (\"+\"VHM\"+ \")\")\n",
        "plt.plot(predictions1[0],color=\"Orange\",linewidth=2)\n",
        "plt.plot(predictions2[0],color=\"Blue\",linewidth=2)\n",
        "plt.plot(predictions3[0],color=\"green\",linewidth=2)\n",
        "plt.plot(predictions4,color=\"Purple\",linewidth=2)\n",
        "plt.plot(y_test,color=\"red\",linewidth=2)\n",
        "plt.xlabel(\"Ngày\",fontsize=18)\n",
        "plt.ylabel(\"Giá cổ phiếu ( ngàn VND )\",fontsize=18)\n",
        "plt.legend([\"Linear Regressive\",\"KNN\",\"SVM\",\"LSTM\",\"Giá thật\"], loc='lower right')\n",
        "plt.show()"
      ]
    },
    {
      "cell_type": "code",
      "execution_count": null,
      "metadata": {
        "id": "38JJEQ-rN9I0"
      },
      "outputs": [],
      "source": [
        "# Vẽ kết hợp trước và lúc dự đoán\n",
        "data_noi = data_stock[:201]\n",
        "kq = data_noi.append(kq)"
      ]
    },
    {
      "cell_type": "code",
      "execution_count": null,
      "metadata": {
        "id": "ihtT55V3MlfJ"
      },
      "outputs": [],
      "source": [
        "# Biểu đồ so sánh dự đoán của các mô hình với giá thực tế\n",
        "plt.figure(figsize=(14, 5))\n",
        "plt.title(\"Biểu đồ so sánh dự đoán của các mô hình với giá thực tế (\"+\"Vinhome\"+ \")\")\n",
        "plt.plot(kq['Linear Regresstive'],color=\"Orange\",linewidth=2)\n",
        "plt.plot(kq['KNN'],color=\"Blue\",linewidth=2)\n",
        "plt.plot(kq['SVM'],color=\"green\",linewidth=2)\n",
        "plt.plot(kq['Lstm'],color=\"Purple\",linewidth=2)\n",
        "plt.plot(kq['close'],color=\"red\",linewidth=2)\n",
        "plt.xlabel(\"Ngày\",fontsize=18)\n",
        "plt.ylabel(\"Giá cổ phiếu ( ngàn VND )\",fontsize=18)\n",
        "plt.legend([\"Linear Regressive\",\"KNN\",\"SVM\",\"LSTM\", \"Giá thật\"], loc='lower left')\n",
        "plt\n",
        "plt.savefig('foo.png')\n",
        "plt.savefig('foo.pdf')"
      ]
    },
    {
      "cell_type": "code",
      "execution_count": null,
      "metadata": {
        "id": "-vgmqoaZM5ED"
      },
      "outputs": [],
      "source": [
        "y_test_2 = []\n",
        "for i in y_test:\n",
        "  y_test_2.extend(i)\n",
        "y_test_2 = np.array(y_test_2)"
      ]
    },
    {
      "cell_type": "code",
      "execution_count": null,
      "metadata": {
        "id": "kk_pMFLwRBlq"
      },
      "outputs": [],
      "source": [
        "# Tính độ lệch rmse chuẩn của các mô hình\n",
        "rmse1 = np.sqrt(np.mean(((predictions1[0]- y_test_2)**2)))\n",
        "rmse2 = np.sqrt(np.mean(((predictions2[0]- y_test_2)**2)))\n",
        "rmse3 = np.sqrt(np.mean(((predictions3[0]- y_test_2)**2)))\n",
        "rmse4 = np.sqrt(np.mean(((predictions4- y_test_2)**2)))\n",
        "\n",
        "print(\"Độ lệch chuẩn Linear Regressive\",rmse1)\n",
        "print(\"Độ lệch chuẩn KNN\",rmse2)\n",
        "print(\"Độ lệch chuẩn SVM\",rmse3)\n",
        "print(\"Độ lệch chuẩn LSTM\",rmse4)"
      ]
    },
    {
      "cell_type": "code",
      "execution_count": null,
      "metadata": {
        "id": "yExta0SWRD5x"
      },
      "outputs": [],
      "source": [
        "# Biểu đồ so sánh sai số (độ lệch chuẩn) của các mô hình\n",
        "import matplotlib.pyplot as plt\n",
        "%matplotlib inline\n",
        "plt.style.use('ggplot')\n",
        "\n",
        "x = ['Linear Regressive',  'KNN','SVM', 'LSTM']\n",
        "energy = [rmse1, rmse2, rmse3, rmse4]\n",
        "\n",
        "x_pos = [i for i, _ in enumerate(x)]\n",
        "plt.bar(x_pos, energy, color='green')\n",
        "plt.xlabel(\"VHM\")\n",
        "plt.ylabel(\"Độ lệch chuẩn\")\n",
        "plt.title(\"Đánh giá các mô hình dự đoán (RMSE)\")\n",
        "\n",
        "plt.xticks(x_pos, x)\n",
        "\n",
        "plt.show()"
      ]
    },
    {
      "cell_type": "code",
      "execution_count": null,
      "metadata": {
        "id": "FcDPRkwpRYst"
      },
      "outputs": [],
      "source": [
        "# Chuyển thành bài toán phân loại chỉ xét tính tăng/giảm của giá không xét tới giá trị\n",
        "from sklearn.metrics import average_precision_score ,f1_score,accuracy_score\n",
        "def score(predictions,y_test):\n",
        "  t1 = []\n",
        "  for i in range(1,len(predictions)):\n",
        "    if predictions[i-1] < predictions[i]:\n",
        "      t1.append(0)\n",
        "    else:\n",
        "      t1.append(1)\n",
        "  t2 = []\n",
        "  for i in range(1,len(y_test)):\n",
        "    if y_test[i-1] < y_test[i]:\n",
        "      t2.append(0)\n",
        "    else:\n",
        "      t2.append(1)\n",
        "  print(\"f1_score\",f1_score(t1, t2))\n",
        "  print(\"Mean Accuracy\",average_precision_score(t1, t2))\n",
        "  print(\"Mean Sharp\",accuracy_score(t1, t2))\n",
        "  print(\"\\n\")"
      ]
    },
    {
      "cell_type": "code",
      "execution_count": null,
      "metadata": {
        "id": "NQDLA-Z7SCes"
      },
      "outputs": [],
      "source": [
        "print(\"Linear Regressive:\")\n",
        "score(predictions1[0],y_test_2)\n",
        "print(\"KNN:\")\n",
        "score(predictions2[0],y_test_2)\n",
        "print(\"SVM\")\n",
        "score(predictions3[0],y_test_2)\n",
        "print(\"LSTM:\")\n",
        "score(predictions4,y_test_2)"
      ]
    },
    {
      "cell_type": "code",
      "execution_count": null,
      "metadata": {
        "id": "vWq8JOlcSLHe"
      },
      "outputs": [],
      "source": [
        "# Thay dữ liệu thực tế vào lấy ra kết quả dự đoán\n",
        "# Chọn ngày muốn test mô hình\n",
        "# Dữ liệu 60 ngày trước ngày mai sẽ được truyền vào:\n",
        "data_truyen_truc_tiep = [x_test[-1]]\n",
        "print(\"Số ngày đã lấy:\",len(data_truyen_truc_tiep[0]))\n",
        "print(scaler.inverse_transform([x_test[-1]]))"
      ]
    },
    {
      "cell_type": "code",
      "execution_count": null,
      "metadata": {
        "id": "QRNKaPo3STig"
      },
      "outputs": [],
      "source": [
        "print(\"Mô hình Linear Regressive dự đoán ra giá của ngày mai là:\")\n",
        "print(scaler.inverse_transform([model_linear.predict(data_truyen_truc_tiep)]))\n",
        "print(\"Mô hình KNN dự đoán ra giá của ngày mai là:\")\n",
        "print(scaler.inverse_transform([knn_model.predict(data_truyen_truc_tiep)]))\n",
        "print(\"Mô hình SVM dự đoán ra giá của ngày mai là:\")\n",
        "print(scaler.inverse_transform([svm_model.predict(data_truyen_truc_tiep)]))\n",
        "print(\"Mô hình LSTM dự đoán ra giá của ngày mai là:\")\n",
        "data_truyen_truc_tiep_3D = np.array(data_truyen_truc_tiep)\n",
        "data_truyen_truc_tiep_3D = np.reshape(data_truyen_truc_tiep_3D, (data_truyen_truc_tiep_3D.shape[0],data_truyen_truc_tiep_3D.shape[1],1))\n",
        "print(scaler.inverse_transform(model.predict(data_truyen_truc_tiep_3D)))"
      ]
    }
  ],
  "metadata": {
    "colab": {
      "provenance": [],
      "include_colab_link": true
    },
    "kernelspec": {
      "display_name": "Python 3",
      "name": "python3"
    },
    "language_info": {
      "name": "python"
    }
  },
  "nbformat": 4,
  "nbformat_minor": 0
}